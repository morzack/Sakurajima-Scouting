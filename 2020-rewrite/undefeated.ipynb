{
 "nbformat": 4,
 "nbformat_minor": 2,
 "metadata": {
  "language_info": {
   "name": "python",
   "codemirror_mode": {
    "name": "ipython",
    "version": 3
   },
   "version": "3.8.1-final"
  },
  "orig_nbformat": 2,
  "file_extension": ".py",
  "mimetype": "text/x-python",
  "name": "python",
  "npconvert_exporter": "python",
  "pygments_lexer": "ipython3",
  "version": 3,
  "kernelspec": {
   "name": "python38164bit4481320a91e545d29888e4d0a4bc66ea",
   "display_name": "Python 3.8.1 64-bit"
  }
 },
 "cells": [
  {
   "cell_type": "code",
   "execution_count": 1,
   "metadata": {},
   "outputs": [],
   "source": [
    "import tbapy\n",
    "import json"
   ]
  },
  {
   "cell_type": "code",
   "execution_count": 2,
   "metadata": {},
   "outputs": [],
   "source": [
    "with open('secret.json', 'r') as f:\n",
    "    tba_key = json.load(f)['tba-key']\n",
    "\n",
    "client = tbapy.TBA(tba_key)"
   ]
  },
  {
   "cell_type": "code",
   "execution_count": 4,
   "metadata": {},
   "outputs": [
    {
     "ename": "TypeError",
     "evalue": "'NoneType' object is not iterable",
     "output_type": "error",
     "traceback": [
      "\u001b[0;31m---------------------------------------------------------------------------\u001b[0m",
      "\u001b[0;31mTypeError\u001b[0m                                 Traceback (most recent call last)",
      "\u001b[0;32m<ipython-input-4-e40ec4ab4641>\u001b[0m in \u001b[0;36m<module>\u001b[0;34m\u001b[0m\n\u001b[1;32m     10\u001b[0m \u001b[0;32mfor\u001b[0m \u001b[0mevent\u001b[0m \u001b[0;32min\u001b[0m \u001b[0mevents\u001b[0m\u001b[0;34m:\u001b[0m\u001b[0;34m\u001b[0m\u001b[0;34m\u001b[0m\u001b[0m\n\u001b[1;32m     11\u001b[0m     \u001b[0mevent_rankings\u001b[0m \u001b[0;34m=\u001b[0m \u001b[0mclient\u001b[0m\u001b[0;34m.\u001b[0m\u001b[0mevent_rankings\u001b[0m\u001b[0;34m(\u001b[0m\u001b[0mevent\u001b[0m\u001b[0;34m)\u001b[0m\u001b[0;34m\u001b[0m\u001b[0;34m\u001b[0m\u001b[0m\n\u001b[0;32m---> 12\u001b[0;31m     \u001b[0;32mfor\u001b[0m \u001b[0mteam\u001b[0m \u001b[0;32min\u001b[0m \u001b[0mevent_rankings\u001b[0m\u001b[0;34m[\u001b[0m\u001b[0;34m'rankings'\u001b[0m\u001b[0;34m]\u001b[0m\u001b[0;34m:\u001b[0m\u001b[0;34m\u001b[0m\u001b[0;34m\u001b[0m\u001b[0m\n\u001b[0m\u001b[1;32m     13\u001b[0m         \u001b[0mteam_key\u001b[0m \u001b[0;34m=\u001b[0m \u001b[0mteam\u001b[0m\u001b[0;34m[\u001b[0m\u001b[0;34m'team_key'\u001b[0m\u001b[0;34m]\u001b[0m\u001b[0;34m\u001b[0m\u001b[0;34m\u001b[0m\u001b[0m\n\u001b[1;32m     14\u001b[0m         \u001b[0mmatches_played\u001b[0m \u001b[0;34m=\u001b[0m \u001b[0mteam\u001b[0m\u001b[0;34m[\u001b[0m\u001b[0;34m'matches_played'\u001b[0m\u001b[0;34m]\u001b[0m\u001b[0;34m\u001b[0m\u001b[0;34m\u001b[0m\u001b[0m\n",
      "\u001b[0;31mTypeError\u001b[0m: 'NoneType' object is not iterable"
     ]
    }
   ],
   "source": [
    "# list all teams\n",
    "events = client.events(2020, keys=True)\n",
    "\n",
    "teams = set()\n",
    "for event in events:\n",
    "    teams_event = client.event_teams(event, keys=True)\n",
    "    for team in teams_event:\n",
    "        teams.add(team)"
   ]
  },
  {
   "cell_type": "code",
   "execution_count": 16,
   "metadata": {},
   "outputs": [
    {
     "data": {
      "text/plain": "{'frc5689',\n 'frc156',\n 'frc5578',\n 'frc2051',\n 'frc7665',\n 'frc8353',\n 'frc3379',\n 'frc6352',\n 'frc5973',\n 'frc7433',\n 'frc7526',\n 'frc8069',\n 'frc1803',\n 'frc5299',\n 'frc7525',\n 'frc8135',\n 'frc7537',\n 'frc6888',\n 'frc1649',\n 'frc4817',\n 'frc4141',\n 'frc3950',\n 'frc1208',\n 'frc3151',\n 'frc8011',\n 'frc3570',\n 'frc8307',\n 'frc6503',\n 'frc5924',\n 'frc3668',\n 'frc6925',\n 'frc254',\n 'frc7231',\n 'frc1676',\n 'frc4298',\n 'frc3851',\n 'frc4546',\n 'frc5590',\n 'frc7183',\n 'frc8325',\n 'frc4004',\n 'frc8323',\n 'frc6912',\n 'frc141',\n 'frc7590',\n 'frc6909',\n 'frc4253',\n 'frc6483',\n 'frc4464',\n 'frc4186',\n 'frc1446',\n 'frc1802',\n 'frc8052',\n 'frc6391',\n 'frc8183',\n 'frc6464',\n 'frc2950',\n 'frc6103',\n 'frc4401',\n 'frc3786',\n 'frc7425',\n 'frc6916',\n 'frc2851',\n 'frc4408',\n 'frc7264',\n 'frc7755',\n 'frc5701',\n 'frc8035',\n 'frc3043',\n 'frc3419',\n 'frc6107',\n 'frc3848',\n 'frc8286',\n 'frc7686',\n 'frc8091',\n 'frc4652',\n 'frc6583',\n 'frc3418',\n 'frc4225',\n 'frc2367',\n 'frc7574',\n 'frc6594',\n 'frc2339',\n 'frc3219',\n 'frc7915',\n 'frc7632',\n 'frc7561',\n 'frc1306',\n 'frc4473',\n 'frc34',\n 'frc8224',\n 'frc3237',\n 'frc7080',\n 'frc250',\n 'frc5161',\n 'frc7656',\n 'frc5854',\n 'frc8384',\n 'frc5278',\n 'frc6194',\n 'frc2706',\n 'frc4978',\n 'frc6656',\n 'frc6871',\n 'frc5429',\n 'frc5048',\n 'frc1245',\n 'frc7435',\n 'frc7511',\n 'frc8134',\n 'frc6455',\n 'frc4809',\n 'frc752',\n 'frc5147',\n 'frc6425',\n 'frc7659',\n 'frc7193',\n 'frc2583',\n 'frc1303',\n 'frc3936',\n 'frc7703',\n 'frc7086',\n 'frc4739',\n 'frc5126',\n 'frc3202',\n 'frc5030',\n 'frc4565',\n 'frc4395',\n 'frc2441',\n 'frc1967',\n 'frc5971',\n 'frc3018',\n 'frc1504',\n 'frc4462',\n 'frc5584',\n 'frc2657',\n 'frc5988',\n 'frc6423',\n 'frc2097',\n 'frc2152',\n 'frc333',\n 'frc997',\n 'frc2383',\n 'frc2832',\n 'frc229',\n 'frc486',\n 'frc2579',\n 'frc2876',\n 'frc6362',\n 'frc7529',\n 'frc5876',\n 'frc5911',\n 'frc599',\n 'frc6716',\n 'frc5065',\n 'frc7438',\n 'frc2062',\n 'frc7473',\n 'frc7875',\n 'frc8169',\n 'frc8226',\n 'frc45',\n 'frc6917',\n 'frc3278',\n 'frc8251',\n 'frc7676',\n 'frc7914',\n 'frc5637',\n 'frc8283',\n 'frc1072',\n 'frc5445',\n 'frc7807',\n 'frc3340',\n 'frc5288',\n 'frc8087',\n 'frc7738',\n 'frc3145',\n 'frc3407',\n 'frc6378',\n 'frc8178',\n 'frc7911',\n 'frc3507',\n 'frc7116',\n 'frc5912',\n 'frc7600',\n 'frc4954',\n 'frc5599',\n 'frc6926',\n 'frc5339',\n 'frc8180',\n 'frc6743',\n 'frc4730',\n 'frc86',\n 'frc2403',\n 'frc3515',\n 'frc4567',\n 'frc3673',\n 'frc3019',\n 'frc6520',\n 'frc1880',\n 'frc6050',\n 'frc6692',\n 'frc7235',\n 'frc5837',\n 'frc6436',\n 'frc8311',\n 'frc2135',\n 'frc4005',\n 'frc4201',\n 'frc971',\n 'frc6949',\n 'frc4143',\n 'frc6749',\n 'frc7406',\n 'frc223',\n 'frc8025',\n 'frc4322',\n 'frc8303',\n 'frc1209',\n 'frc7654',\n 'frc4159',\n 'frc287',\n 'frc3015',\n 'frc2560',\n 'frc7555',\n 'frc6305',\n 'frc8038',\n 'frc1744',\n 'frc8415',\n 'frc8148',\n 'frc4156',\n 'frc6592',\n 'frc2423',\n 'frc3160',\n 'frc1699',\n 'frc8346',\n 'frc7442',\n 'frc5744',\n 'frc6612',\n 'frc6398',\n 'frc3454',\n 'frc2259',\n 'frc6533',\n 'frc8337',\n 'frc8165',\n 'frc2137',\n 'frc7752',\n 'frc1155',\n 'frc6711',\n 'frc7673',\n 'frc8321',\n 'frc8022',\n 'frc5810',\n 'frc6996',\n 'frc2265',\n 'frc6474',\n 'frc1726',\n 'frc4646',\n 'frc8231',\n 'frc7897',\n 'frc8108',\n 'frc4547',\n 'frc3941',\n 'frc5708',\n 'frc8086',\n 'frc5074',\n 'frc6709',\n 'frc6164',\n 'frc2130',\n 'frc5478',\n 'frc7689',\n 'frc8428',\n 'frc4904',\n 'frc5057',\n 'frc3865',\n 'frc7327',\n 'frc2716',\n 'frc5968',\n 'frc2708',\n 'frc7472',\n 'frc6764',\n 'frc5181',\n 'frc1828',\n 'frc4091',\n 'frc3635',\n 'frc6639',\n 'frc5963',\n 'frc2907',\n 'frc4342',\n 'frc569',\n 'frc1585',\n 'frc2667',\n 'frc3090',\n 'frc8138',\n 'frc5627',\n 'frc1918',\n 'frc7516',\n 'frc5227',\n 'frc3596',\n 'frc4014',\n 'frc7682',\n 'frc5642',\n 'frc3735',\n 'frc7533',\n 'frc2341',\n 'frc4810',\n 'frc7142',\n 'frc7785',\n 'frc7488',\n 'frc7636',\n 'frc6762',\n 'frc8028',\n 'frc5648',\n 'frc8324',\n 'frc5412',\n 'frc6943',\n 'frc175',\n 'frc8297',\n 'frc8412',\n 'frc5914',\n 'frc6907',\n 'frc8388',\n 'frc7635',\n 'frc3390',\n 'frc233',\n 'frc6741',\n 'frc433',\n 'frc640',\n 'frc6535',\n 'frc7695',\n 'frc4139',\n 'frc935',\n 'frc8313',\n 'frc7838',\n 'frc7047',\n 'frc5681',\n 'frc7031',\n 'frc6340',\n 'frc5809',\n 'frc5858',\n 'frc4013',\n 'frc4183',\n 'frc6304',\n 'frc87',\n 'frc6937',\n 'frc3796',\n 'frc3981',\n 'frc6823',\n 'frc7499',\n 'frc2791',\n 'frc4012',\n 'frc3035',\n 'frc7811',\n 'frc3484',\n 'frc6404',\n 'frc5603',\n 'frc7552',\n 'frc1750',\n 'frc6089',\n 'frc4571',\n 'frc8068',\n 'frc4390',\n 'frc5511',\n 'frc7266',\n 'frc4729',\n 'frc1561',\n 'frc8105',\n 'frc7794',\n 'frc6941',\n 'frc6995',\n 'frc8229',\n 'frc5725',\n 'frc1334',\n 'frc4601',\n 'frc1466',\n 'frc1359',\n 'frc6701',\n 'frc2906',\n 'frc4114',\n 'frc6827',\n 'frc3172',\n 'frc2929',\n 'frc3293',\n 'frc5996',\n 'frc7230',\n 'frc6891',\n 'frc3062',\n 'frc3993',\n 'frc8266',\n 'frc6685',\n 'frc8017',\n 'frc8357',\n 'frc5326',\n 'frc5583',\n 'frc20',\n 'frc1660',\n 'frc4361',\n 'frc7055',\n 'frc3606',\n 'frc7251',\n 'frc8202',\n 'frc3055',\n 'frc2879',\n 'frc2481',\n 'frc3939',\n 'frc2662',\n 'frc7198',\n 'frc6894',\n 'frc6101',\n 'frc5230',\n 'frc5753',\n 'frc8115',\n 'frc2895',\n 'frc1251',\n 'frc6611',\n 'frc7428',\n 'frc1422',\n 'frc3658',\n 'frc3975',\n 'frc5831',\n 'frc7747',\n 'frc8243',\n 'frc6219',\n 'frc8144',\n 'frc2600',\n 'frc8064',\n 'frc6422',\n 'frc4640',\n 'frc884',\n 'frc6889',\n 'frc4632',\n 'frc6162',\n 'frc4579',\n 'frc2143',\n 'frc1665',\n 'frc8287',\n 'frc3091',\n 'frc4388',\n 'frc6803',\n 'frc1248',\n 'frc7239',\n 'frc353',\n 'frc3457',\n 'frc2554',\n 'frc8292',\n 'frc5402',\n 'frc4902',\n 'frc2191',\n 'frc1492',\n 'frc2048',\n 'frc5438',\n 'frc6327',\n 'frc527',\n 'frc766',\n 'frc6494',\n 'frc1646',\n 'frc7652',\n 'frc340',\n 'frc4383',\n 'frc8426',\n 'frc2577',\n 'frc5937',\n 'frc7043',\n 'frc6532',\n 'frc1468',\n 'frc1546',\n 'frc7551',\n 'frc4573',\n 'frc426',\n 'frc2359',\n 'frc5709',\n 'frc5806',\n 'frc4619',\n 'frc8258',\n 'frc8026',\n 'frc4203',\n 'frc5310',\n 'frc3179',\n 'frc1984',\n 'frc5557',\n 'frc7464',\n 'frc2056',\n 'frc2827',\n 'frc3714',\n 'frc2246',\n 'frc5005',\n 'frc136',\n 'frc3044',\n 'frc7719',\n 'frc8057',\n 'frc7218',\n 'frc3574',\n 'frc5465',\n 'frc2027',\n 'frc2035',\n 'frc1025',\n 'frc3984',\n 'frc714',\n 'frc7165',\n 'frc6636',\n 'frc5168',\n 'frc5308',\n 'frc991',\n 'frc4311',\n 'frc7315',\n 'frc7109',\n 'frc7512',\n 'frc1143',\n 'frc7848',\n 'frc4737',\n 'frc7485',\n 'frc7317',\n 'frc5477',\n 'frc6593',\n 'frc79',\n 'frc938',\n 'frc293',\n 'frc5196',\n 'frc7107',\n 'frc5420',\n 'frc2085',\n 'frc8249',\n 'frc5069',\n 'frc8306',\n 'frc5176',\n 'frc5298',\n 'frc6948',\n 'frc5254',\n 'frc5587',\n 'frc5239',\n 'frc7468',\n 'frc8021',\n 'frc4614',\n 'frc2489',\n 'frc8066',\n 'frc6686',\n 'frc6066',\n 'frc1672',\n 'frc7050',\n 'frc4508',\n 'frc2771',\n 'frc5448',\n 'frc56',\n 'frc5016',\n 'frc3546',\n 'frc225',\n 'frc180',\n 'frc815',\n 'frc2232',\n 'frc6732',\n 'frc6896',\n 'frc604',\n 'frc6858',\n 'frc6342',\n 'frc6524',\n 'frc1212',\n 'frc5500',\n 'frc8121',\n 'frc7484',\n 'frc2647',\n 'frc4213',\n 'frc3260',\n 'frc5078',\n 'frc4914',\n 'frc5585',\n 'frc7583',\n 'frc7799',\n 'frc4392',\n 'frc5621',\n 'frc5619',\n 'frc3669',\n 'frc2352',\n 'frc6026',\n 'frc2853',\n 'frc8051',\n 'frc383',\n 'frc7795',\n 'frc7127',\n 'frc5156',\n 'frc5104',\n 'frc5881',\n 'frc4662',\n 'frc1576',\n 'frc5225',\n 'frc272',\n 'frc514',\n 'frc6461',\n 'frc488',\n 'frc8267',\n 'frc7277',\n 'frc4819',\n 'frc1709',\n 'frc4523',\n 'frc4972',\n 'frc8024',\n 'frc937',\n 'frc6386',\n 'frc5276',\n 'frc7611',\n 'frc6399',\n 'frc7479',\n 'frc1450',\n 'frc6090',\n 'frc5863',\n 'frc1700',\n 'frc3244',\n 'frc6397',\n 'frc3633',\n 'frc6806',\n 'frc4917',\n 'frc5556',\n 'frc5505',\n 'frc2733',\n 'frc1977',\n 'frc7254',\n 'frc1444',\n 'frc2340',\n 'frc2461',\n 'frc5255',\n 'frc1927',\n 'frc7309',\n 'frc8033',\n 'frc6100',\n 'frc2395',\n 'frc7205',\n 'frc3748',\n 'frc2477',\n 'frc6528',\n 'frc7903',\n 'frc5865',\n 'frc6600',\n 'frc1018',\n 'frc4371',\n 'frc2070',\n 'frc2515',\n 'frc4130',\n 'frc313',\n 'frc4111',\n 'frc6023',\n 'frc7272',\n 'frc1997',\n 'frc334',\n 'frc4622',\n 'frc1157',\n 'frc5827',\n 'frc7152',\n 'frc6722',\n 'frc125',\n 'frc5928',\n 'frc8185',\n 'frc2551',\n 'frc585',\n 'frc6383',\n 'frc2927',\n 'frc5821',\n 'frc6622',\n 'frc4949',\n 'frc2785',\n 'frc8234',\n 'frc6444',\n 'frc5257',\n 'frc2338',\n 'frc8291',\n 'frc4461',\n 'frc4327',\n 'frc25',\n 'frc2190',\n 'frc2046',\n 'frc7413',\n 'frc3634',\n 'frc6974',\n 'frc6326',\n 'frc5539',\n 'frc694',\n 'frc8389',\n 'frc7836',\n 'frc5316',\n 'frc4924',\n 'frc8044',\n 'frc8075',\n 'frc2164',\n 'frc6706',\n 'frc3393',\n 'frc4466',\n 'frc6068',\n 'frc5198',\n 'frc4804',\n 'frc2377',\n 'frc378',\n 'frc8371',\n 'frc7540',\n 'frc7113',\n 'frc806',\n 'frc8110',\n 'frc8048',\n 'frc6945',\n 'frc6997',\n 'frc6128',\n 'frc3881',\n 'frc7594',\n 'frc8164',\n 'frc1246',\n 'frc972',\n 'frc7783',\n 'frc5840',\n 'frc2854',\n 'frc5848',\n 'frc5564',\n 'frc7522',\n 'frc5467',\n 'frc4630',\n 'frc3288',\n 'frc4064',\n 'frc3637',\n 'frc6677',\n 'frc7136',\n 'frc6060',\n 'frc3647',\n 'frc8172',\n 'frc6300',\n 'frc3476',\n 'frc4450',\n 'frc263',\n 'frc4150',\n 'frc4263',\n 'frc71',\n 'frc4604',\n 'frc1555',\n 'frc8020',\n 'frc3704',\n 'frc3562',\n 'frc3238',\n 'frc810',\n 'frc7452',\n 'frc7589',\n 'frc1706',\n 'frc4043',\n 'frc4118',\n 'frc6824',\n 'frc7275',\n 'frc4364',\n 'frc5430',\n 'frc3627',\n 'frc6184',\n 'frc442',\n 'frc7646',\n 'frc4694',\n 'frc8335',\n 'frc2620',\n 'frc5976',\n 'frc2036',\n 'frc8256',\n 'frc2438',\n 'frc7073',\n 'frc648',\n 'frc1156',\n 'frc5997',\n 'frc8405',\n 'frc5684',\n 'frc7203',\n 'frc1178',\n 'frc8132',\n 'frc4941',\n 'frc2504',\n 'frc5404',\n 'frc6754',\n 'frc6145',\n 'frc2825',\n 'frc1566',\n 'frc4454',\n 'frc204',\n 'frc4765',\n 'frc6063',\n 'frc2557',\n 'frc1761',\n 'frc3330',\n 'frc7023',\n 'frc7161',\n 'frc5134',\n 'frc5202',\n 'frc6540',\n 'frc2875',\n 'frc3234',\n 'frc4247',\n 'frc7826',\n 'frc7588',\n 'frc2225',\n 'frc7213',\n 'frc3495',\n 'frc5142',\n 'frc7570',\n 'frc3588',\n 'frc5449',\n 'frc6869',\n 'frc7709',\n 'frc3853',\n 'frc3632',\n 'frc253',\n 'frc224',\n 'frc7400',\n 'frc771',\n 'frc6402',\n 'frc4255',\n 'frc2165',\n 'frc4940',\n 'frc1523',\n 'frc7018',\n 'frc5930',\n 'frc1584',\n 'frc5785',\n 'frc4779',\n 'frc4678',\n 'frc7717',\n 'frc6372',\n 'frc6099',\n 'frc176',\n 'frc2601',\n 'frc7707',\n 'frc581',\n 'frc6489',\n 'frc2909',\n 'frc3844',\n 'frc5992',\n 'frc702',\n 'frc6615',\n 'frc7710',\n 'frc8413',\n 'frc5460',\n 'frc6302',\n 'frc7037',\n 'frc2606',\n 'frc4187',\n 'frc6418',\n 'frc3137',\n 'frc3009',\n 'frc5714',\n 'frc7541',\n 'frc3821',\n 'frc6096',\n 'frc8395',\n 'frc6331',\n 'frc7502',\n 'frc4925',\n 'frc6127',\n 'frc2830',\n 'frc7446',\n 'frc8232',\n 'frc2345',\n 'frc7599',\n 'frc6957',\n 'frc1591',\n 'frc7566',\n 'frc751',\n 'frc1626',\n 'frc6193',\n 'frc5418',\n 'frc2335',\n 'frc6220',\n 'frc7653',\n 'frc7034',\n 'frc5507',\n 'frc4733',\n 'frc1537',\n 'frc6043',\n 'frc6854',\n 'frc6981',\n 'frc4957',\n 'frc6550',\n 'frc8018',\n 'frc3163',\n 'frc5480',\n 'frc6866',\n 'frc3883',\n 'frc4537',\n 'frc496',\n 'frc7477',\n 'frc801',\n 'frc7271',\n 'frc60',\n 'frc8281',\n 'frc7242',\n 'frc6394',\n 'frc6484',\n 'frc6083',\n 'frc6825',\n 'frc5213',\n 'frc3930',\n 'frc3925',\n 'frc5596',\n 'frc6817',\n 'frc7040',\n 'frc4174',\n 'frc6964',\n 'frc6075',\n 'frc6753',\n 'frc5624',\n 'frc6199',\n 'frc6674',\n 'frc498',\n 'frc3319',\n 'frc5683',\n 'frc4381',\n 'frc5189',\n 'frc5426',\n 'frc5494',\n 'frc4469',\n 'frc3792',\n 'frc5099',\n 'frc6911',\n 'frc7668',\n 'frc3619',\n 'frc6846',\n 'frc8284',\n 'frc5666',\n 'frc2491',\n 'frc5203',\n 'frc1972',\n 'frc2224',\n 'frc7741',\n 'frc7476',\n 'frc2197',\n 'frc1305',\n 'frc6098',\n 'frc6195',\n 'frc6241',\n 'frc5274',\n 'frc5443',\n 'frc2523',\n 'frc2480',\n 'frc6172',\n 'frc818',\n 'frc4913',\n 'frc6530',\n 'frc1290',\n 'frc1',\n 'frc8355',\n 'frc1482',\n 'frc6566',\n 'frc8327',\n 'frc6027',\n 'frc5728',\n 'frc8294',\n 'frc4784',\n 'frc2425',\n 'frc6895',\n 'frc6606',\n 'frc5484',\n 'frc5763',\n 'frc8012',\n 'frc5522',\n 'frc6070',\n 'frc7544',\n 'frc8427',\n 'frc1658',\n 'frc5145',\n 'frc7057',\n 'frc4664',\n 'frc981',\n 'frc4973',\n 'frc8379',\n 'frc7718',\n 'frc4306',\n 'frc6935',\n 'frc5724',\n 'frc7645',\n 'frc203',\n 'frc7403',\n 'frc6873',\n 'frc6114',\n 'frc7669',\n 'frc7701',\n 'frc8235',\n 'frc7214',\n 'frc1250',\n 'frc6958',\n 'frc7567',\n 'frc2172',\n 'frc7885',\n 'frc4774',\n 'frc8077',\n 'frc1165',\n 'frc6178',\n 'frc6200',\n 'frc1714',\n 'frc5515',\n 'frc1289',\n 'frc41',\n 'frc5622',\n 'frc3247',\n 'frc8386',\n 'frc5752',\n 'frc2470',\n 'frc6337',\n 'frc7267',\n 'frc5060',\n 'frc2712',\n 'frc1799',\n 'frc3187',\n 'frc2957',\n 'frc6367',\n ...}"
     },
     "execution_count": 16,
     "metadata": {},
     "output_type": "execute_result"
    }
   ],
   "source": [
    "unplayed_teams = teams.copy()\n",
    "for event in events:\n",
    "    event_rankings = client.event_rankings(event)\n",
    "    if event_rankings['rankings'] != None:\n",
    "        for team in event_rankings['rankings']:\n",
    "            team_key = team['team_key']\n",
    "            matches_played = team['matches_played']\n",
    "            wins = team['record']['wins']\n",
    "            if matches_played != 0:\n",
    "                if team_key in unplayed_teams:\n",
    "                    unplayed_teams.remove(team_key)\n",
    "                if wins != matches_played and team_key in teams:\n",
    "                    teams.remove(team_key)\n",
    "teams"
   ]
  },
  {
   "cell_type": "code",
   "execution_count": 15,
   "metadata": {},
   "outputs": [
    {
     "data": {
      "text/plain": "1918"
     },
     "execution_count": 15,
     "metadata": {},
     "output_type": "execute_result"
    }
   ],
   "source": [
    "len(teams)"
   ]
  },
  {
   "cell_type": "code",
   "execution_count": 17,
   "metadata": {},
   "outputs": [
    {
     "data": {
      "text/plain": "16"
     },
     "execution_count": 17,
     "metadata": {},
     "output_type": "execute_result"
    }
   ],
   "source": [
    "len(teams) - len(unplayed_teams)"
   ]
  },
  {
   "cell_type": "code",
   "execution_count": 18,
   "metadata": {},
   "outputs": [
    {
     "data": {
      "text/plain": "{'frc1073',\n 'frc1690',\n 'frc176',\n 'frc1918',\n 'frc2338',\n 'frc2491',\n 'frc3293',\n 'frc340',\n 'frc3647',\n 'frc4130',\n 'frc4201',\n 'frc5160',\n 'frc5511',\n 'frc694',\n 'frc7498',\n 'frc987'}"
     },
     "execution_count": 18,
     "metadata": {},
     "output_type": "execute_result"
    }
   ],
   "source": [
    "teams ^ unplayed_teams"
   ]
  },
  {
   "cell_type": "code",
   "execution_count": null,
   "metadata": {},
   "outputs": [],
   "source": []
  }
 ]
}